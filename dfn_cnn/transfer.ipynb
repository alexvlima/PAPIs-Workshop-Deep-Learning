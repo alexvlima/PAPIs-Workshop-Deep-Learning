{
 "cells": [
  {
   "cell_type": "markdown",
   "metadata": {},
   "source": [
    "# Building Deep Learning Applications with Keras: Transfer learning\n",
    "\n",
    "## Galaxy morphological classification\n",
    "\n",
    "Another problem that can be solved with supervised learning is the one of *galaxy morphological classification*, i.e. the problem of dividing galaxies into groups based on their visual appearance.\n",
    "We took some samples from the [EFIGI reference dataset](https://www.aanda.org/articles/aa/pdf/forth/aa16423-10.pdf). For simplicity's sake we will work with three classes of galaxis only:  **elliptical** (with no overly defined structure), **irregular** (resembling a blob of glowing dust) and **spiral** (resembling a pinwheel).\n",
    "\n",
    "<table>\n",
    "<tr>\n",
    "<td>\n",
    "<img align=\"middle\"   width='200' heith='100' src='images/eliptical.png'>\n",
    "<img align=\"middle\"   width='200' heith='100' src='images/irregular.png'>\n",
    "<img align=\"middle\"   width='200' heith='100' src='images/sspiral.png'>\n",
    "</td>\n",
    "</tr>\n",
    "</table>"
   ]
  },
  {
   "cell_type": "markdown",
   "metadata": {},
   "source": [
    "## Using a pretrained model\n",
    "\n",
    "This task is in the same category as the one of lane and road following, image classification. But there is a difference here. We have less data: there are only 300 images for training and 100 images for testing. One way to circunvent this issue is to use one technique called **transfer learning**.\n",
    "\n",
    "One way to apply this technique is by first train a base network on a base dataset and then we \"transfer\" the learned features to a second network to be trained on the efige dataset.\n",
    "\n",
    "Keras have some available pre-trained models on the [ImageNet dataset](http://www.image-net.org/):\n",
    "\n",
    " - [Xception](https://keras.io/applications/#xception)\n",
    " - [VGG16](https://keras.io/applications/#vgg16)\n",
    " - [VGG19](https://keras.io/applications/#vgg19)\n",
    " - [ResNet50](https://keras.io/applications/#resnet50)\n",
    " - [InceptionV3](https://keras.io/applications/#inceptionv3)\n",
    " - [InceptionResNetV2](https://keras.io/applications/#inceptionresnetv2)\n",
    " - [MobileNet](https://keras.io/applications/#mobilenet)\n",
    " - [DenseNet](https://keras.io/applications/#densenet)\n",
    " - [NASNet](https://keras.io/applications/#nasnet)\n",
    "\n",
    "\n",
    "Here you will see how to use one of these models."
   ]
  },
  {
   "cell_type": "code",
   "execution_count": 1,
   "metadata": {},
   "outputs": [
    {
     "name": "stderr",
     "output_type": "stream",
     "text": [
      "/usr/local/lib/python3.6/site-packages/h5py/__init__.py:36: FutureWarning: Conversion of the second argument of issubdtype from `float` to `np.floating` is deprecated. In future, it will be treated as `np.float64 == np.dtype(float).type`.\n",
      "  from ._conv import register_converters as _register_converters\n",
      "Using TensorFlow backend.\n"
     ]
    }
   ],
   "source": [
    "import numpy as np\n",
    "from keras.models import Model\n",
    "from keras.applications.vgg19 import VGG19, preprocess_input\n",
    "from keras.callbacks import EarlyStopping\n",
    "from keras.preprocessing.image import ImageDataGenerator\n",
    "from keras.utils import np_utils\n",
    "import numpy as np\n",
    "import os\n",
    "import subprocess\n",
    "from plots import plot_confusion_matrix\n",
    "from util import generator2array"
   ]
  },
  {
   "cell_type": "markdown",
   "metadata": {},
   "source": [
    "If you want to download the data for yourself you can uncomment the cell below."
   ]
  },
  {
   "cell_type": "code",
   "execution_count": null,
   "metadata": {},
   "outputs": [],
   "source": [
    "# if not os.path.exists(\"efigi_data\"):\n",
    "#     pro = subprocess.Popen([\"bash\", \"download_efigi.sh\"])\n",
    "#     pro.wait()"
   ]
  },
  {
   "cell_type": "markdown",
   "metadata": {},
   "source": [
    "## ImageDataGenerator\n",
    "\n",
    "We can use NumPy arrays as input to the `fit()` method. But it is way more efficient to use the [`ImageDataGenerator`](https://keras.io/preprocessing/image/) class. This class read images from a folder and generates batches of tensors with real-time data augmentation."
   ]
  },
  {
   "cell_type": "code",
   "execution_count": 2,
   "metadata": {},
   "outputs": [],
   "source": [
    "train_datagen = ImageDataGenerator(rescale=1./255,\n",
    "        shear_range=0.2,\n",
    "        rotation_range=45,\n",
    "        zoom_range=0.2,\n",
    "        horizontal_flip=True,\n",
    "        vertical_flip=True)\n",
    "\n",
    "test_datagen = ImageDataGenerator(rescale=1./255)"
   ]
  },
  {
   "cell_type": "code",
   "execution_count": 3,
   "metadata": {},
   "outputs": [
    {
     "name": "stdout",
     "output_type": "stream",
     "text": [
      "Found 300 images belonging to 3 classes.\n"
     ]
    }
   ],
   "source": [
    "train_generator = train_datagen.flow_from_directory('/efigi_data/train',\n",
    "                                                    target_size=(224,224),\n",
    "                                                    batch_size=32,\n",
    "                                                    class_mode='categorical')"
   ]
  },
  {
   "cell_type": "code",
   "execution_count": 4,
   "metadata": {},
   "outputs": [
    {
     "name": "stdout",
     "output_type": "stream",
     "text": [
      "Found 150 images belonging to 3 classes.\n"
     ]
    }
   ],
   "source": [
    "test_generator = test_datagen.flow_from_directory('/efigi_data/test',\n",
    "                                                  target_size=(224,224),\n",
    "                                                  batch_size=32,\n",
    "                                                  class_mode='categorical')"
   ]
  },
  {
   "cell_type": "markdown",
   "metadata": {},
   "source": [
    "## Using a CNN\n",
    "\n",
    "As a comparison, let's see how a CNN model perform when we trained it on this data."
   ]
  },
  {
   "cell_type": "code",
   "execution_count": 5,
   "metadata": {},
   "outputs": [
    {
     "name": "stdout",
     "output_type": "stream",
     "text": [
      "Hyperparams:\n",
      "\n",
      "height = 224\n",
      "width = 224\n",
      "channels = 3\n",
      "architecture = [100, 3]\n",
      "activations = ['relu', 'softmax']\n",
      "conv_activations = ['relu', 'relu']\n",
      "conv_architecture = [32, 64]\n",
      "kernel_sizes = [5, 5]\n",
      "pool_kernel = [2, 2]\n",
      "batch_size = 32\n",
      "epochs = 3\n",
      "save_step = 100\n",
      "learning_rate = 0.01\n",
      "momentum = 0.1\n",
      "\n",
      "Keras model:\n",
      "\n",
      "\n",
      "Training:\n",
      "\n",
      "Epoch 1/3\n",
      "10/10 [==============================] - 66s 7s/step - loss: 1.0811 - acc: 0.4371\n",
      "Epoch 2/3\n",
      "10/10 [==============================] - 63s 6s/step - loss: 1.0184 - acc: 0.4120\n",
      "Epoch 3/3\n",
      "10/10 [==============================] - 62s 6s/step - loss: 0.8959 - acc: 0.5818\n"
     ]
    },
    {
     "data": {
      "image/png": "[encoded data removed]",
      "text/plain": [
       "<matplotlib.figure.Figure at 0x7f14bc8cb0b8>"
      ]
     },
     "metadata": {},
     "output_type": "display_data"
    }
   ],
   "source": [
    "from config import CNNConfig\n",
    "from models import CNN\n",
    "\n",
    "cnn_config1 = CNNConfig()\n",
    "cnn_config1.height=224\n",
    "cnn_config1.width=224\n",
    "\n",
    "print(\"Hyperparams:\\n\")\n",
    "\n",
    "print(cnn_config1)\n",
    "\n",
    "print(\"Keras model:\\n\")\n",
    "\n",
    "\n",
    "cnn1 = CNN(cnn_config1)\n",
    "\n",
    "\n",
    "print(\"\\nTraining:\\n\")\n",
    "\n",
    "stopper = EarlyStopping(monitor='acc', min_delta=0.0001, patience=3, verbose=1)\n",
    "\n",
    "cnn1.fit_generator(train_generator, epochs=3,\n",
    "          verbose=1, callbacks = [stopper])\n",
    "\n",
    "pred = cnn1.predict_generator(test_generator)\n",
    "pred= np.argmax(pred, 1)\n",
    "plot_confusion_matrix(truth=test_generator.classes,\n",
    "                      predictions=pred,\n",
    "                      save=False,\n",
    "                      path=\"tf_confusion_matrix.png\",\n",
    "                      classes=['elliptical', 'irregular','spiral'])"
   ]
  },
  {
   "cell_type": "markdown",
   "metadata": {},
   "source": [
    "## Using the pre-trained model VGG19\n",
    "\n",
    "Now we will use the ImageDataGenerator to preprocess all the images. We will set the images sizes to (224,224, 3) because this is the shape that the VGG19 is expecting.  "
   ]
  },
  {
   "cell_type": "code",
   "execution_count": 7,
   "metadata": {},
   "outputs": [
    {
     "name": "stdout",
     "output_type": "stream",
     "text": [
      "Found 300 images belonging to 3 classes.\n",
      "Found 150 images belonging to 3 classes.\n"
     ]
    }
   ],
   "source": [
    "train_datagen = ImageDataGenerator()\n",
    "test_datagen = ImageDataGenerator()\n",
    "train_generator = train_datagen.flow_from_directory('/efigi_data/train',\n",
    "                                                    target_size=(224,224),\n",
    "                                                    batch_size=32,\n",
    "                                                    class_mode='categorical')\n",
    "test_generator = test_datagen.flow_from_directory('/efigi_data/test',\n",
    "                                                  target_size=(224,224),\n",
    "                                                  batch_size=32,\n",
    "                                                  class_mode='categorical')"
   ]
  },
  {
   "cell_type": "markdown",
   "metadata": {},
   "source": [
    "Now let's download the model and remove its last layer."
   ]
  },
  {
   "cell_type": "code",
   "execution_count": 8,
   "metadata": {},
   "outputs": [
    {
     "name": "stdout",
     "output_type": "stream",
     "text": [
      "Downloading data from https://github.com/fchollet/deep-learning-models/releases/download/v0.1/vgg19_weights_tf_dim_ordering_tf_kernels.h5\n",
      "574717952/574710816 [==============================] - 35s 0us/step\n"
     ]
    }
   ],
   "source": [
    "base_model = VGG19()"
   ]
  },
  {
   "cell_type": "code",
   "execution_count": 9,
   "metadata": {},
   "outputs": [],
   "source": [
    "remove_top = 2\n",
    "model = Model(base_model.input, base_model.layers[-remove_top].output)"
   ]
  },
  {
   "cell_type": "markdown",
   "metadata": {},
   "source": [
    "We need to obtain the images from the generator to apply the function `preprocess_input` to them. We are preapring the images to be the input to this network."
   ]
  },
  {
   "cell_type": "code",
   "execution_count": 10,
   "metadata": {},
   "outputs": [],
   "source": [
    "train_data, train_labels = generator2array(train_generator)"
   ]
  },
  {
   "cell_type": "code",
   "execution_count": 11,
   "metadata": {},
   "outputs": [],
   "source": [
    "test_data, test_labels = generator2array(test_generator)"
   ]
  },
  {
   "cell_type": "markdown",
   "metadata": {},
   "source": [
    "Note that we will use the function `preprocess_input` to preprocess the data in a way that is suitable for the VGG19 model."
   ]
  },
  {
   "cell_type": "code",
   "execution_count": 12,
   "metadata": {},
   "outputs": [],
   "source": [
    "train_data = preprocess_input(train_data)\n",
    "test_data = preprocess_input(test_data)"
   ]
  },
  {
   "cell_type": "markdown",
   "metadata": {},
   "source": [
    "We now obtain the learned features from the VGG19. Depending of the computer this can be slow."
   ]
  },
  {
   "cell_type": "code",
   "execution_count": null,
   "metadata": {},
   "outputs": [],
   "source": [
    "train_embeddings = model.predict(train_data)"
   ]
  },
  {
   "cell_type": "markdown",
   "metadata": {},
   "source": [
    "The train images now have been transformed in vectors."
   ]
  },
  {
   "cell_type": "code",
   "execution_count": null,
   "metadata": {},
   "outputs": [],
   "source": [
    "print(train_embeddings.shape)"
   ]
  },
  {
   "cell_type": "markdown",
   "metadata": {},
   "source": [
    "Let's create a neural network to perform the prediction using the VGG19 vectors."
   ]
  },
  {
   "cell_type": "code",
   "execution_count": null,
   "metadata": {},
   "outputs": [],
   "source": [
    "from config import DFNConfig\n",
    "from models import DFN"
   ]
  },
  {
   "cell_type": "code",
   "execution_count": null,
   "metadata": {},
   "outputs": [],
   "source": [
    "dfn_config_tl = DFNConfig(input_dim=4096, architecture=[300,200,100,3])\n",
    "\n",
    "print(\"Hyperparams:\\n\")\n",
    "print(dfn_config_tl)\n",
    "\n",
    "print(\"Keras model:\\n\")\n",
    "\n",
    "\n",
    "dfn_tf = DFN(dfn_config_tl)\n",
    "print(dfn_tf.summary())"
   ]
  },
  {
   "cell_type": "code",
   "execution_count": null,
   "metadata": {},
   "outputs": [],
   "source": [
    "print(\"Training:\\n\")\n",
    "dfn_tf.fit(train_embeddings,\n",
    "           train_labels,\n",
    "           batch_size=32,\n",
    "           epochs=30,\n",
    "           validation_split=0.2, \n",
    "           verbose=1)"
   ]
  },
  {
   "cell_type": "markdown",
   "metadata": {},
   "source": [
    "To evaluate the model we need to apply the same transformation to the test data."
   ]
  },
  {
   "cell_type": "code",
   "execution_count": null,
   "metadata": {},
   "outputs": [],
   "source": [
    "test_embeddings = model.predict(test_data)"
   ]
  },
  {
   "cell_type": "code",
   "execution_count": null,
   "metadata": {},
   "outputs": [],
   "source": [
    "print('\\nAccuracy: {:.2f}'.format(dfn_tf.evaluate(test_embeddings,test_labels, verbose=1)[1]))"
   ]
  },
  {
   "cell_type": "code",
   "execution_count": null,
   "metadata": {},
   "outputs": [],
   "source": [
    "train_generator.class_indices"
   ]
  },
  {
   "cell_type": "code",
   "execution_count": null,
   "metadata": {},
   "outputs": [],
   "source": [
    "pred = dfn_tf.predict_classes(test_embeddings)\n",
    "plot_confusion_matrix(truth=np.argmax(test_labels, 1),\n",
    "                      predictions=pred,\n",
    "                      save=False,\n",
    "                      path=\"tf_confusion_matrix.png\",\n",
    "                      classes=['elliptical', 'irregular','spiral'])"
   ]
  },
  {
   "cell_type": "markdown",
   "metadata": {},
   "source": [
    "We have trained one model using the vgg19 vectors, if you want you can download it to use here."
   ]
  },
  {
   "cell_type": "code",
   "execution_count": null,
   "metadata": {},
   "outputs": [],
   "source": [
    "if not os.path.exists(\"vgg19_4096_300_200_100_3.h5\"):\n",
    "    pro = subprocess.Popen([\"bash\", \"download_efigi_model.sh\"])\n",
    "    pro.wait()"
   ]
  },
  {
   "cell_type": "code",
   "execution_count": null,
   "metadata": {},
   "outputs": [],
   "source": [
    "dfn_tf.load_weights(\"vgg19_4096_300_200_100_3.h5\")\n",
    "pred = dfn_tf.predict_classes(test_embeddings)\n",
    "plot_confusion_matrix(truth=np.argmax(test_labels, 1),\n",
    "                      predictions=pred,\n",
    "                      save=False,\n",
    "                      path=\"tf_confusion_matrix.png\",\n",
    "                      classes=['elliptical', 'irregular','spiral'])"
   ]
  },
  {
   "cell_type": "markdown",
   "metadata": {},
   "source": [
    "## Next steps: \n",
    "**See if you can use another trained model to get a better result than we have :)**\n"
   ]
  }
 ],
 "metadata": {
  "kernelspec": {
   "display_name": "Python 3",
   "language": "python",
   "name": "python3"
  },
  "language_info": {
   "codemirror_mode": {
    "name": "ipython",
    "version": 3
   },
   "file_extension": ".py",
   "mimetype": "text/x-python",
   "name": "python",
   "nbconvert_exporter": "python",
   "pygments_lexer": "ipython3",
   "version": "3.6.2"
  }
 },
 "nbformat": 4,
 "nbformat_minor": 2
}
